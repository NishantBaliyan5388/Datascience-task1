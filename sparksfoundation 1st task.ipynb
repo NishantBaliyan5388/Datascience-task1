{
 "cells": [
  {
   "cell_type": "markdown",
   "id": "149b4710",
   "metadata": {},
   "source": [
    "# **The Sparks Foundation - GRIP - Data Science and Business Analytics - July 2022**\n",
    "\n",
    "### TASK 1 : Prediction using supervised ML\n",
    "    \n",
    "Author : **Nishant Baliyan**\n",
    "\n",
    "Dataset used: Student Scores\n",
    "\n",
    "It can be downloaded through the following link - http://bit.ly/w-data\n",
    "\n",
    "### Problem Statement(s) :\n",
    "* Predict the percentage of a student based on the no. of study hours.\n",
    "* What will be predicted score if a student studies for 9.25 hrs/ day?"
   ]
  },
  {
   "cell_type": "markdown",
   "id": "12038e9a",
   "metadata": {},
   "source": [
    "## **Step 1: Importing Libraries**"
   ]
  },
  {
   "cell_type": "code",
   "execution_count": 4,
   "id": "eff4f60f",
   "metadata": {},
   "outputs": [],
   "source": [
    "import pandas as pd\n",
    "from sklearn.linear_model import LinearRegression\n",
    "from sklearn.model_selection import train_test_split\n",
    "from sklearn.metrics import mean_squared_error\n",
    "import matplotlib.pyplot as plt"
   ]
  },
  {
   "cell_type": "markdown",
   "id": "e4f35de2",
   "metadata": {},
   "source": [
    "## **Step 2:Reading Data**"
   ]
  },
  {
   "cell_type": "code",
   "execution_count": 15,
   "id": "2a1a8970",
   "metadata": {},
   "outputs": [
    {
     "data": {
      "text/html": [
       "<div>\n",
       "<style scoped>\n",
       "    .dataframe tbody tr th:only-of-type {\n",
       "        vertical-align: middle;\n",
       "    }\n",
       "\n",
       "    .dataframe tbody tr th {\n",
       "        vertical-align: top;\n",
       "    }\n",
       "\n",
       "    .dataframe thead th {\n",
       "        text-align: right;\n",
       "    }\n",
       "</style>\n",
       "<table border=\"1\" class=\"dataframe\">\n",
       "  <thead>\n",
       "    <tr style=\"text-align: right;\">\n",
       "      <th></th>\n",
       "      <th>Hours</th>\n",
       "      <th>Scores</th>\n",
       "    </tr>\n",
       "  </thead>\n",
       "  <tbody>\n",
       "    <tr>\n",
       "      <th>0</th>\n",
       "      <td>2.5</td>\n",
       "      <td>21</td>\n",
       "    </tr>\n",
       "    <tr>\n",
       "      <th>1</th>\n",
       "      <td>5.1</td>\n",
       "      <td>47</td>\n",
       "    </tr>\n",
       "    <tr>\n",
       "      <th>2</th>\n",
       "      <td>3.2</td>\n",
       "      <td>27</td>\n",
       "    </tr>\n",
       "    <tr>\n",
       "      <th>3</th>\n",
       "      <td>8.5</td>\n",
       "      <td>75</td>\n",
       "    </tr>\n",
       "    <tr>\n",
       "      <th>4</th>\n",
       "      <td>3.5</td>\n",
       "      <td>30</td>\n",
       "    </tr>\n",
       "    <tr>\n",
       "      <th>5</th>\n",
       "      <td>1.5</td>\n",
       "      <td>20</td>\n",
       "    </tr>\n",
       "    <tr>\n",
       "      <th>6</th>\n",
       "      <td>9.2</td>\n",
       "      <td>88</td>\n",
       "    </tr>\n",
       "    <tr>\n",
       "      <th>7</th>\n",
       "      <td>5.5</td>\n",
       "      <td>60</td>\n",
       "    </tr>\n",
       "    <tr>\n",
       "      <th>8</th>\n",
       "      <td>8.3</td>\n",
       "      <td>81</td>\n",
       "    </tr>\n",
       "    <tr>\n",
       "      <th>9</th>\n",
       "      <td>2.7</td>\n",
       "      <td>25</td>\n",
       "    </tr>\n",
       "  </tbody>\n",
       "</table>\n",
       "</div>"
      ],
      "text/plain": [
       "   Hours  Scores\n",
       "0    2.5      21\n",
       "1    5.1      47\n",
       "2    3.2      27\n",
       "3    8.5      75\n",
       "4    3.5      30\n",
       "5    1.5      20\n",
       "6    9.2      88\n",
       "7    5.5      60\n",
       "8    8.3      81\n",
       "9    2.7      25"
      ]
     },
     "execution_count": 15,
     "metadata": {},
     "output_type": "execute_result"
    }
   ],
   "source": [
    "data = pd.read_csv(\"http://bit.ly/w-data\")\n",
    "data.head(10) "
   ]
  },
  {
   "cell_type": "markdown",
   "id": "786ef310",
   "metadata": {},
   "source": [
    "## **Step 3: Data Preprocessing**"
   ]
  },
  {
   "cell_type": "code",
   "execution_count": 7,
   "id": "01888ac8",
   "metadata": {},
   "outputs": [
    {
     "data": {
      "text/plain": [
       "Hours     0\n",
       "Scores    0\n",
       "dtype: int64"
      ]
     },
     "execution_count": 7,
     "metadata": {},
     "output_type": "execute_result"
    }
   ],
   "source": [
    "#Checking for missing value\n",
    "data.isnull().sum()"
   ]
  },
  {
   "cell_type": "code",
   "execution_count": 8,
   "id": "66922f49",
   "metadata": {},
   "outputs": [
    {
     "name": "stdout",
     "output_type": "stream",
     "text": [
      "<class 'pandas.core.frame.DataFrame'>\n",
      "RangeIndex: 25 entries, 0 to 24\n",
      "Data columns (total 2 columns):\n",
      " #   Column  Non-Null Count  Dtype  \n",
      "---  ------  --------------  -----  \n",
      " 0   Hours   25 non-null     float64\n",
      " 1   Scores  25 non-null     int64  \n",
      "dtypes: float64(1), int64(1)\n",
      "memory usage: 528.0 bytes\n"
     ]
    }
   ],
   "source": [
    "#Getting more info \n",
    "data.info()"
   ]
  },
  {
   "cell_type": "markdown",
   "id": "0526d257",
   "metadata": {},
   "source": [
    "## **Step 4: Setting Dependent and Independent Variable**"
   ]
  },
  {
   "cell_type": "code",
   "execution_count": 9,
   "id": "b54d7918",
   "metadata": {},
   "outputs": [],
   "source": [
    "x = data['Hours']\n",
    "y = data['Scores']\n",
    "x = x.values.reshape(len(x),1) \n",
    "y = y.values.reshape(len(y),1)"
   ]
  },
  {
   "cell_type": "markdown",
   "id": "dc6021cb",
   "metadata": {},
   "source": [
    "## **Step 5: Building Model**"
   ]
  },
  {
   "cell_type": "code",
   "execution_count": 10,
   "id": "4841f360",
   "metadata": {},
   "outputs": [
    {
     "data": {
      "text/plain": [
       "LinearRegression()"
      ]
     },
     "execution_count": 10,
     "metadata": {},
     "output_type": "execute_result"
    }
   ],
   "source": [
    "#Splitting data into training and test set\n",
    "x_train, x_test, y_train, y_test = train_test_split(x, y, test_size=0.2, random_state=0)\n",
    "\n",
    "#Making instance\n",
    "lr = LinearRegression() \n",
    "\n",
    "#Fitting Model\n",
    "lr.fit(x_train, y_train)"
   ]
  },
  {
   "cell_type": "markdown",
   "id": "5d525c81",
   "metadata": {},
   "source": [
    "## **Step 6: Evaluating Mean Squared Error**"
   ]
  },
  {
   "cell_type": "code",
   "execution_count": 11,
   "id": "24ea0af8",
   "metadata": {},
   "outputs": [
    {
     "name": "stdout",
     "output_type": "stream",
     "text": [
      "Mean Square Error =  21.5987693072174\n"
     ]
    }
   ],
   "source": [
    "y_pred = lr.predict(x_test)\n",
    "\n",
    "mse = mean_squared_error(y_test,y_pred)\n",
    "\n",
    "print(\"Mean Square Error = \", mse)"
   ]
  },
  {
   "cell_type": "markdown",
   "id": "9acccf1d",
   "metadata": {},
   "source": [
    "## **Step 7: Plotting Best Fit Line**"
   ]
  },
  {
   "attachments": {
    "image.png": {
     "image/png": "[encoded data removed]"
    }
   },
   "cell_type": "markdown",
   "id": "ee1e4975",
   "metadata": {},
   "source": [
    "![image.png](attachment:image.png)"
   ]
  },
  {
   "cell_type": "markdown",
   "id": "9ceabf23",
   "metadata": {},
   "source": [
    "## **Step 8: Making Prediction**"
   ]
  },
  {
   "cell_type": "code",
   "execution_count": 14,
   "id": "00a7c9f9",
   "metadata": {},
   "outputs": [
    {
     "name": "stdout",
     "output_type": "stream",
     "text": [
      "Predicted Score if a student studies for 9.25 hrs/day =   [[93.69173249]]\n"
     ]
    }
   ],
   "source": [
    "#Predcting for x = 9.25 \n",
    "Y = lr.intercept_ + lr.coef_ * 9.25\n",
    "\n",
    "print(\"Predicted Score if a student studies for 9.25 hrs/day =  \", Y)"
   ]
  }
 ],
 "metadata": {
  "kernelspec": {
   "display_name": "Python 3 (ipykernel)",
   "language": "python",
   "name": "python3"
  },
  "language_info": {
   "codemirror_mode": {
    "name": "ipython",
    "version": 3
   },
   "file_extension": ".py",
   "mimetype": "text/x-python",
   "name": "python",
   "nbconvert_exporter": "python",
   "pygments_lexer": "ipython3",
   "version": "3.9.12"
  }
 },
 "nbformat": 4,
 "nbformat_minor": 5
}
